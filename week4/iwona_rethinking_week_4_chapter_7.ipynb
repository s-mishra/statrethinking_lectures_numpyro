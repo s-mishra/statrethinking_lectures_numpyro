{
  "nbformat": 4,
  "nbformat_minor": 0,
  "metadata": {
    "colab": {
      "name": "rethinking-week-4-chapter-7.ipynb",
      "provenance": [],
      "collapsed_sections": [],
      "authorship_tag": "ABX9TyM2sz2BMCQYRvjhQFBYXsQ9",
      "include_colab_link": true
    },
    "kernelspec": {
      "name": "python3",
      "display_name": "Python 3"
    },
    "language_info": {
      "name": "python"
    }
  },
  "cells": [
    {
      "cell_type": "markdown",
      "metadata": {
        "id": "view-in-github",
        "colab_type": "text"
      },
      "source": [
        "<a href=\"https://colab.research.google.com/github/s-mishra/statrethinking_lectures_numpyro/blob/main/week4/iwona_rethinking_week_4_chapter_7.ipynb\" target=\"_parent\"><img src=\"https://colab.research.google.com/assets/colab-badge.svg\" alt=\"Open In Colab\"/></a>"
      ]
    },
    {
      "cell_type": "markdown",
      "metadata": {
        "id": "cKTnJpkOJ1j9"
      },
      "source": [
        "### Useful links:\n",
        "\n",
        "* [HOMEWORK](https://github.com/rmcelreath/stat_rethinking_2020/tree/main/homework)\n",
        "\n",
        "* [Book code translated into NumPyro](https://fehiepsi.github.io/rethinking-numpyro/)\n",
        "\n",
        "* [Book and homework code in Python/PyMC3](https://github.com/pymc-devs/resources/tree/master/Rethinking_2)\n",
        "\n",
        "* [NumPyro documentation](http://num.pyro.ai/en/stable/api.html)\n",
        "\n",
        "* [NumPyro examples](http://num.pyro.ai/en/latest/index.html#introductory-tutorials)\n",
        "\n",
        "* [Other languagaes and videos](https://github.com/rmcelreath/stat_rethinking_2020)"
      ]
    },
    {
      "cell_type": "code",
      "metadata": {
        "colab": {
          "base_uri": "https://localhost:8080/"
        },
        "id": "1hM4DZKUH71i",
        "outputId": "7ab334dd-1ca9-4498-93ca-b8913deefb18"
      },
      "source": [
        "!pip install numpyro\n"
      ],
      "execution_count": 3,
      "outputs": [
        {
          "output_type": "stream",
          "text": [
            "Collecting numpyro\n",
            "  Downloading numpyro-0.7.2-py3-none-any.whl (250 kB)\n",
            "\u001b[?25l\r\u001b[K     |█▎                              | 10 kB 22.0 MB/s eta 0:00:01\r\u001b[K     |██▋                             | 20 kB 26.4 MB/s eta 0:00:01\r\u001b[K     |████                            | 30 kB 13.8 MB/s eta 0:00:01\r\u001b[K     |█████▎                          | 40 kB 7.2 MB/s eta 0:00:01\r\u001b[K     |██████▌                         | 51 kB 5.2 MB/s eta 0:00:01\r\u001b[K     |███████▉                        | 61 kB 5.4 MB/s eta 0:00:01\r\u001b[K     |█████████▏                      | 71 kB 5.6 MB/s eta 0:00:01\r\u001b[K     |██████████▌                     | 81 kB 6.3 MB/s eta 0:00:01\r\u001b[K     |███████████▊                    | 92 kB 5.8 MB/s eta 0:00:01\r\u001b[K     |█████████████                   | 102 kB 5.4 MB/s eta 0:00:01\r\u001b[K     |██████████████▍                 | 112 kB 5.4 MB/s eta 0:00:01\r\u001b[K     |███████████████▊                | 122 kB 5.4 MB/s eta 0:00:01\r\u001b[K     |█████████████████               | 133 kB 5.4 MB/s eta 0:00:01\r\u001b[K     |██████████████████▎             | 143 kB 5.4 MB/s eta 0:00:01\r\u001b[K     |███████████████████▋            | 153 kB 5.4 MB/s eta 0:00:01\r\u001b[K     |█████████████████████           | 163 kB 5.4 MB/s eta 0:00:01\r\u001b[K     |██████████████████████▏         | 174 kB 5.4 MB/s eta 0:00:01\r\u001b[K     |███████████████████████▌        | 184 kB 5.4 MB/s eta 0:00:01\r\u001b[K     |████████████████████████▉       | 194 kB 5.4 MB/s eta 0:00:01\r\u001b[K     |██████████████████████████▏     | 204 kB 5.4 MB/s eta 0:00:01\r\u001b[K     |███████████████████████████▌    | 215 kB 5.4 MB/s eta 0:00:01\r\u001b[K     |████████████████████████████▊   | 225 kB 5.4 MB/s eta 0:00:01\r\u001b[K     |██████████████████████████████  | 235 kB 5.4 MB/s eta 0:00:01\r\u001b[K     |███████████████████████████████▍| 245 kB 5.4 MB/s eta 0:00:01\r\u001b[K     |████████████████████████████████| 250 kB 5.4 MB/s \n",
            "\u001b[?25hRequirement already satisfied: jax>=0.2.13 in /usr/local/lib/python3.7/dist-packages (from numpyro) (0.2.19)\n",
            "Requirement already satisfied: jaxlib>=0.1.65 in /usr/local/lib/python3.7/dist-packages (from numpyro) (0.1.70+cuda110)\n",
            "Requirement already satisfied: tqdm in /usr/local/lib/python3.7/dist-packages (from numpyro) (4.62.0)\n",
            "Requirement already satisfied: opt-einsum in /usr/local/lib/python3.7/dist-packages (from jax>=0.2.13->numpyro) (3.3.0)\n",
            "Requirement already satisfied: absl-py in /usr/local/lib/python3.7/dist-packages (from jax>=0.2.13->numpyro) (0.12.0)\n",
            "Requirement already satisfied: numpy>=1.18 in /usr/local/lib/python3.7/dist-packages (from jax>=0.2.13->numpyro) (1.19.5)\n",
            "Requirement already satisfied: scipy in /usr/local/lib/python3.7/dist-packages (from jaxlib>=0.1.65->numpyro) (1.4.1)\n",
            "Requirement already satisfied: flatbuffers<3.0,>=1.12 in /usr/local/lib/python3.7/dist-packages (from jaxlib>=0.1.65->numpyro) (1.12)\n",
            "Requirement already satisfied: six in /usr/local/lib/python3.7/dist-packages (from absl-py->jax>=0.2.13->numpyro) (1.15.0)\n",
            "Installing collected packages: numpyro\n",
            "Successfully installed numpyro-0.7.2\n"
          ],
          "name": "stdout"
        }
      ]
    },
    {
      "cell_type": "code",
      "metadata": {
        "id": "m-dfVGRjH-tG"
      },
      "source": [
        "import os\n",
        "\n",
        "import arviz as az\n",
        "import matplotlib.pyplot as plt\n",
        "import pandas as pd\n",
        "from scipy.stats import gaussian_kde\n",
        "\n",
        "import jax.numpy as jnp\n",
        "from jax import random, vmap\n",
        "\n",
        "import numpyro\n",
        "import numpyro.distributions as dist\n",
        "\n",
        "az.style.use(\"arviz-darkgrid\")\n",
        "numpyro.set_platform(\"cpu\")\n",
        "\n",
        "import numpy as np\n",
        "import pandas as pd"
      ],
      "execution_count": 4,
      "outputs": []
    },
    {
      "cell_type": "markdown",
      "metadata": {
        "id": "AL64aM9LINFH"
      },
      "source": [
        "# Homework week 4\n",
        "\n",
        " https://github.com/rmcelreath/stat_rethinking_2020/tree/main/homework/week04"
      ]
    },
    {
      "cell_type": "markdown",
      "metadata": {
        "id": "mSsAuEVxvLxX"
      },
      "source": [
        "## Exercise 1\n"
      ]
    },
    {
      "cell_type": "markdown",
      "metadata": {
        "id": "fqz87mjXvRl4"
      },
      "source": [
        "Consider three fictional Polynesian islands. On each there is a Royal Ornithologist charged by the king with surveying the birb population. They have each found the following proportions of 5 important birb species:\n",
        "\t\n",
        "![delete.PNG](data:image/png;base64,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)\n",
        "\t \n",
        "\t\n",
        "Notice that each row sums to 1, all the birbs. This problem has two parts. It is not computationally complicated. But it is conceptually tricky. First, compute the entropy of each island’s birb distribution. Interpret these entropy values. Second, use each island’s birb distribution to predict the other two. This means to compute the K-L Divergence of each island from the others, treating each island as if it were a statistical model of the other islands. You should end up with 6 different K-L Divergence values. Which island predicts the others best? Why?\n"
      ]
    },
    {
      "cell_type": "code",
      "metadata": {
        "id": "b5z-_K58vLac"
      },
      "source": [
        "island1 = [0.2, 0.2, 0.2, 0.2, 0.2]\n",
        "island2 = [0.8, 0.1, 0.05, 0.025, 0.025]\n",
        "island3 = [0.05, 0.15, 0.7, 0.05, 0.05]\n",
        "assert(len(island1) == 5)\n",
        "assert(len(island2) == 5)\n",
        "assert(len(island3) == 5)\n"
      ],
      "execution_count": 1,
      "outputs": []
    },
    {
      "cell_type": "code",
      "metadata": {
        "colab": {
          "base_uri": "https://localhost:8080/"
        },
        "id": "nlo_ZnI9exut",
        "outputId": "bb07ba36-39df-410c-904e-6cfa1454a88a"
      },
      "source": [
        "def entropy(v):\n",
        "  entropy = 0\n",
        "  for el in v:\n",
        "    entropy += el * jnp.log(el)\n",
        "  return -1 * entropy\n",
        "\n",
        "print('Island 1 entropy:', entropy(island1))\n",
        "print('Island 2 entropy:', entropy(island2))\n",
        "print('Island 3 entropy:', entropy(island3))\n"
      ],
      "execution_count": 4,
      "outputs": [
        {
          "output_type": "stream",
          "text": [
            "Island 1 entropy: 1.609438\n",
            "Island 2 entropy: 0.7430039\n",
            "Island 3 entropy: 0.98360026\n"
          ],
          "name": "stdout"
        }
      ]
    },
    {
      "cell_type": "markdown",
      "metadata": {
        "id": "DLcJ9OOhfgib"
      },
      "source": [
        "Highest entropy has the island with the most even distribution of the byrbs"
      ]
    },
    {
      "cell_type": "code",
      "metadata": {
        "colab": {
          "base_uri": "https://localhost:8080/"
        },
        "id": "Sur8jmiOfnO2",
        "outputId": "b47e04a8-587c-4c51-9328-b3d20e81ff69"
      },
      "source": [
        "def KL(v1, v2):\n",
        "  assert(len(v1) == len(v2))\n",
        "  kl_div = 0\n",
        "  for i in range(len(v1)):\n",
        "    kl_div += v1[i] * (jnp.log(v1[i]) - jnp.log(v2[i]))\n",
        "  return kl_div\n",
        "\n",
        "islands = [island1, island2, island3]\n",
        "\n",
        "kl_divergences = np.zeros((3,3))\n",
        "\n",
        "for i in range(3):\n",
        "  for j in range(3):\n",
        "    kl_divergences[i,j] = KL(islands[j], islands[i])\n",
        "    # print('Islands', i+1, 'and', j+1, 'KL divergence:', KL(islands[i], islands[j]))\n",
        "\n",
        "print(kl_divergences)"
      ],
      "execution_count": 15,
      "outputs": [
        {
          "output_type": "stream",
          "text": [
            "[[0.         0.86643398 0.62583762]\n",
            " [0.97040606 0.         1.83884513]\n",
            " [0.63876045 2.01091433 0.        ]]\n"
          ],
          "name": "stdout"
        }
      ]
    },
    {
      "cell_type": "markdown",
      "metadata": {
        "id": "GFMMBVt7ieHt"
      },
      "source": [
        "Island 1 has the lowest distance to the other islands(lowest KL divergence).It also makes sense because it had the highest entropy.\n"
      ]
    },
    {
      "cell_type": "markdown",
      "metadata": {
        "id": "EXMpkoXcsyaJ"
      },
      "source": [
        "## Exercise 2"
      ]
    },
    {
      "cell_type": "markdown",
      "metadata": {
        "id": "jDhRs7Dbs2bj"
      },
      "source": [
        "Recall the marriage, age, and happiness collider bias example from Chapter 6. Run models m6.9 and m6.10 again. Compare these two models using WAIC (or LOO, they will produce identical results). Which model is expected to make better predictions? Which model provides the correct causal inference about the influence of age on happiness? Can you explain why the answers to these two questions disagree?"
      ]
    },
    {
      "cell_type": "code",
      "metadata": {
        "id": "nyagR2fVKpDz"
      },
      "source": [
        "## TODO"
      ],
      "execution_count": 33,
      "outputs": []
    },
    {
      "cell_type": "markdown",
      "metadata": {
        "id": "IniSCTlZs506"
      },
      "source": [
        "## Exercise 3"
      ]
    },
    {
      "cell_type": "markdown",
      "metadata": {
        "id": "Dmgv7xtTs8T4"
      },
      "source": [
        "Reconsider the urban fox analysis from last week’s homework. Use WAIC or LOO based model comparison on five different models, each using weight as the outcome, and containing these sets of predictor variables:\n",
        "\t\n",
        "\n",
        "\t\t\n",
        "1. avgfood + groupsize + area\n",
        "\t\t\n",
        "2. avgfood + groupsize\n",
        "\t\t\n",
        "3. groupsize + area\n",
        "\t\t\n",
        "4. avgfood\n",
        "\t\t\n",
        "5. area \n",
        "\t\n",
        "\t\n",
        "\t\n",
        "Can you explain the relative differences in WAIC scores, using the fox DAG from last week’s homework? Be sure to pay attention to the standard error of the score differences (dSE)."
      ]
    },
    {
      "cell_type": "code",
      "metadata": {
        "colab": {
          "base_uri": "https://localhost:8080/",
          "height": 206
        },
        "id": "cI-qABoss7a1",
        "outputId": "2a82cb62-d516-4ae6-f416-87f74cd983e8"
      },
      "source": [
        "# load the dataset with the foxes data from github\n",
        "df = pd.read_csv('https://raw.githubusercontent.com/rmcelreath/rethinking/master/data/foxes.csv', delimiter=';')\n",
        "from sklearn.preprocessing import StandardScaler\n",
        "df_std = df.copy()\n",
        "df_std[['avgfood', 'groupsize', 'area', 'weight']] = StandardScaler().fit_transform(df_std[['avgfood', 'groupsize', 'area', 'weight']])\n",
        "df_std.head()"
      ],
      "execution_count": 5,
      "outputs": [
        {
          "output_type": "execute_result",
          "data": {
            "text/html": [
              "<div>\n",
              "<style scoped>\n",
              "    .dataframe tbody tr th:only-of-type {\n",
              "        vertical-align: middle;\n",
              "    }\n",
              "\n",
              "    .dataframe tbody tr th {\n",
              "        vertical-align: top;\n",
              "    }\n",
              "\n",
              "    .dataframe thead th {\n",
              "        text-align: right;\n",
              "    }\n",
              "</style>\n",
              "<table border=\"1\" class=\"dataframe\">\n",
              "  <thead>\n",
              "    <tr style=\"text-align: right;\">\n",
              "      <th></th>\n",
              "      <th>group</th>\n",
              "      <th>avgfood</th>\n",
              "      <th>groupsize</th>\n",
              "      <th>area</th>\n",
              "      <th>weight</th>\n",
              "    </tr>\n",
              "  </thead>\n",
              "  <tbody>\n",
              "    <tr>\n",
              "      <th>0</th>\n",
              "      <td>1</td>\n",
              "      <td>-1.933180</td>\n",
              "      <td>-1.530701</td>\n",
              "      <td>-2.249313</td>\n",
              "      <td>0.415931</td>\n",
              "    </tr>\n",
              "    <tr>\n",
              "      <th>1</th>\n",
              "      <td>1</td>\n",
              "      <td>-1.933180</td>\n",
              "      <td>-1.530701</td>\n",
              "      <td>-2.249313</td>\n",
              "      <td>-1.433238</td>\n",
              "    </tr>\n",
              "    <tr>\n",
              "      <th>2</th>\n",
              "      <td>2</td>\n",
              "      <td>-1.122886</td>\n",
              "      <td>-1.530701</td>\n",
              "      <td>-1.210738</td>\n",
              "      <td>0.678887</td>\n",
              "    </tr>\n",
              "    <tr>\n",
              "      <th>3</th>\n",
              "      <td>2</td>\n",
              "      <td>-1.122886</td>\n",
              "      <td>-1.530701</td>\n",
              "      <td>-1.210738</td>\n",
              "      <td>1.306586</td>\n",
              "    </tr>\n",
              "    <tr>\n",
              "      <th>4</th>\n",
              "      <td>3</td>\n",
              "      <td>-1.325459</td>\n",
              "      <td>-1.530701</td>\n",
              "      <td>-1.135008</td>\n",
              "      <td>1.119973</td>\n",
              "    </tr>\n",
              "  </tbody>\n",
              "</table>\n",
              "</div>"
            ],
            "text/plain": [
              "   group   avgfood  groupsize      area    weight\n",
              "0      1 -1.933180  -1.530701 -2.249313  0.415931\n",
              "1      1 -1.933180  -1.530701 -2.249313 -1.433238\n",
              "2      2 -1.122886  -1.530701 -1.210738  0.678887\n",
              "3      2 -1.122886  -1.530701 -1.210738  1.306586\n",
              "4      3 -1.325459  -1.530701 -1.135008  1.119973"
            ]
          },
          "metadata": {},
          "execution_count": 5
        }
      ]
    },
    {
      "cell_type": "code",
      "metadata": {
        "id": "wUipIICc8jFu"
      },
      "source": [
        "X1 = df_std.loc[:,['avgfood', 'groupsize', 'area']].values\n",
        "X2 = df_std.loc[:,['avgfood', 'groupsize']].values\n",
        "X3 = df_std.loc[:,['groupsize', 'area']].values\n",
        "X4 = df_std.loc[:,['avgfood']].values\n",
        "X5 = df_std.loc[:,['area']].values\n"
      ],
      "execution_count": 13,
      "outputs": []
    },
    {
      "cell_type": "code",
      "metadata": {
        "id": "7J_kEJDg6m7t"
      },
      "source": [
        "def foxes(X, y=None):\n",
        "  B = numpyro.sample('B', dist.Normal(0, 1), sample_shape=(X.shape[1],))\n",
        "  sigma = numpyro.sample('sigma', dist.InverseGamma(1))\n",
        "  mu = numpyro.deterministic('mu', X.dot(B))\n",
        "\n",
        "  numpyro.sample('y', dist.Normal(mu, sigma), obs = y)\n",
        "\n",
        "def mcmc_fixes(X, y=None):\n",
        "  X = jnp.array(X)\n",
        "  y = jnp.array(y)\n",
        "\n",
        "  nuts_kernel = numpyro.infer.NUTS(foxes)\n",
        "\n",
        "  mcmc = numpyro.infer.MCMC(nuts_kernel, num_chains=4, num_samples=2000, num_warmup=2000)\n",
        "  rng_key = random.PRNGKey(0)\n",
        "  mcmc.run(rng_key, X=X, y=y)\n",
        "  \n",
        "  return mcmc\n",
        "\n"
      ],
      "execution_count": 24,
      "outputs": []
    },
    {
      "cell_type": "code",
      "metadata": {
        "colab": {
          "base_uri": "https://localhost:8080/"
        },
        "id": "Bb5c2WaK7eb6",
        "outputId": "d2fdf331-3304-417e-f2b8-392c3ef7f6d2"
      },
      "source": [
        "y = df_std.weight.values\n",
        "mcmc_1 = mcmc_fixes(X1, y)\n",
        "mcmc_2 = mcmc_fixes(X2, y)\n",
        "mcmc_3 = mcmc_fixes(X3, y)\n",
        "mcmc_4 = mcmc_fixes(X4, y)\n",
        "mcmc_5 = mcmc_fixes(X5, y)"
      ],
      "execution_count": 26,
      "outputs": [
        {
          "output_type": "stream",
          "text": [
            "/usr/local/lib/python3.7/dist-packages/numpyro/infer/mcmc.py:275: UserWarning: There are not enough devices to run parallel chains: expected 4 but got 1. Chains will be drawn sequentially. If you are running MCMC in CPU, consider using `numpyro.set_host_device_count(4)` at the beginning of your program. You can double-check how many devices are available in your system using `jax.local_device_count()`.\n",
            "  self.num_chains, local_device_count(), self.num_chains\n",
            "sample: 100%|██████████| 4000/4000 [00:04<00:00, 954.53it/s, 7 steps of size 3.26e-01. acc. prob=0.89] \n",
            "sample: 100%|██████████| 4000/4000 [00:00<00:00, 5604.63it/s, 7 steps of size 2.48e-01. acc. prob=0.93]\n",
            "sample: 100%|██████████| 4000/4000 [00:00<00:00, 5440.04it/s, 7 steps of size 2.64e-01. acc. prob=0.93] \n",
            "sample: 100%|██████████| 4000/4000 [00:00<00:00, 5445.17it/s, 5 steps of size 2.36e-01. acc. prob=0.94] \n",
            "/usr/local/lib/python3.7/dist-packages/numpyro/infer/mcmc.py:275: UserWarning: There are not enough devices to run parallel chains: expected 4 but got 1. Chains will be drawn sequentially. If you are running MCMC in CPU, consider using `numpyro.set_host_device_count(4)` at the beginning of your program. You can double-check how many devices are available in your system using `jax.local_device_count()`.\n",
            "  self.num_chains, local_device_count(), self.num_chains\n",
            "sample: 100%|██████████| 4000/4000 [00:04<00:00, 929.62it/s, 3 steps of size 3.55e-01. acc. prob=0.92] \n",
            "sample: 100%|██████████| 4000/4000 [00:00<00:00, 5694.43it/s, 11 steps of size 3.05e-01. acc. prob=0.94]\n",
            "sample: 100%|██████████| 4000/4000 [00:00<00:00, 5750.40it/s, 7 steps of size 2.86e-01. acc. prob=0.95]\n",
            "sample: 100%|██████████| 4000/4000 [00:00<00:00, 5810.04it/s, 3 steps of size 3.43e-01. acc. prob=0.93] \n",
            "/usr/local/lib/python3.7/dist-packages/numpyro/infer/mcmc.py:275: UserWarning: There are not enough devices to run parallel chains: expected 4 but got 1. Chains will be drawn sequentially. If you are running MCMC in CPU, consider using `numpyro.set_host_device_count(4)` at the beginning of your program. You can double-check how many devices are available in your system using `jax.local_device_count()`.\n",
            "  self.num_chains, local_device_count(), self.num_chains\n",
            "sample: 100%|██████████| 4000/4000 [00:04<00:00, 959.15it/s, 3 steps of size 3.58e-01. acc. prob=0.95] \n",
            "sample: 100%|██████████| 4000/4000 [00:00<00:00, 5963.75it/s, 15 steps of size 3.90e-01. acc. prob=0.94]\n",
            "sample: 100%|██████████| 4000/4000 [00:00<00:00, 5962.64it/s, 3 steps of size 4.05e-01. acc. prob=0.93]\n",
            "sample: 100%|██████████| 4000/4000 [00:00<00:00, 5991.32it/s, 15 steps of size 4.48e-01. acc. prob=0.92]\n",
            "/usr/local/lib/python3.7/dist-packages/numpyro/infer/mcmc.py:275: UserWarning: There are not enough devices to run parallel chains: expected 4 but got 1. Chains will be drawn sequentially. If you are running MCMC in CPU, consider using `numpyro.set_host_device_count(4)` at the beginning of your program. You can double-check how many devices are available in your system using `jax.local_device_count()`.\n",
            "  self.num_chains, local_device_count(), self.num_chains\n",
            "sample: 100%|██████████| 4000/4000 [00:04<00:00, 995.86it/s, 1 steps of size 8.54e-01. acc. prob=0.92] \n",
            "sample: 100%|██████████| 4000/4000 [00:00<00:00, 6603.14it/s, 3 steps of size 9.05e-01. acc. prob=0.90]\n",
            "sample: 100%|██████████| 4000/4000 [00:00<00:00, 6457.15it/s, 7 steps of size 7.00e-01. acc. prob=0.94]\n",
            "sample: 100%|██████████| 4000/4000 [00:00<00:00, 6478.71it/s, 7 steps of size 7.84e-01. acc. prob=0.93]\n",
            "/usr/local/lib/python3.7/dist-packages/numpyro/infer/mcmc.py:275: UserWarning: There are not enough devices to run parallel chains: expected 4 but got 1. Chains will be drawn sequentially. If you are running MCMC in CPU, consider using `numpyro.set_host_device_count(4)` at the beginning of your program. You can double-check how many devices are available in your system using `jax.local_device_count()`.\n",
            "  self.num_chains, local_device_count(), self.num_chains\n",
            "sample: 100%|██████████| 4000/4000 [00:04<00:00, 972.05it/s, 3 steps of size 9.02e-01. acc. prob=0.91] \n",
            "sample: 100%|██████████| 4000/4000 [00:00<00:00, 6332.98it/s, 3 steps of size 9.09e-01. acc. prob=0.90]\n",
            "sample: 100%|██████████| 4000/4000 [00:00<00:00, 6022.19it/s, 3 steps of size 8.58e-01. acc. prob=0.92]\n",
            "sample: 100%|██████████| 4000/4000 [00:00<00:00, 6148.54it/s, 3 steps of size 8.64e-01. acc. prob=0.92]\n"
          ],
          "name": "stderr"
        }
      ]
    },
    {
      "cell_type": "markdown",
      "metadata": {
        "id": "p4zaU1joAK0w"
      },
      "source": [
        "For the WAIC and LOO I will be using Arviz package\n",
        "https://arviz-devs.github.io/arviz/api/generated/arviz.compare.html"
      ]
    },
    {
      "cell_type": "code",
      "metadata": {
        "colab": {
          "base_uri": "https://localhost:8080/",
          "height": 243
        },
        "id": "z4WNDr4n9Il5",
        "outputId": "57e7ed30-1439-4b90-b9b2-067405858546"
      },
      "source": [
        "models_dict = {'model1': mcmc_1, 'model2': mcmc_2, 'model3': mcmc_3, 'model4': mcmc_4, 'model5': mcmc_5}\n",
        "az.compare(models_dict, ic='loo', scale='deviance')"
      ],
      "execution_count": 32,
      "outputs": [
        {
          "output_type": "stream",
          "text": [
            "/usr/local/lib/python3.7/dist-packages/arviz/stats/stats.py:146: UserWarning: The default method used to estimate the weights for each model,has changed from BB-pseudo-BMA to stacking\n",
            "  \"The default method used to estimate the weights for each model,\"\n"
          ],
          "name": "stderr"
        },
        {
          "output_type": "execute_result",
          "data": {
            "text/html": [
              "<div>\n",
              "<style scoped>\n",
              "    .dataframe tbody tr th:only-of-type {\n",
              "        vertical-align: middle;\n",
              "    }\n",
              "\n",
              "    .dataframe tbody tr th {\n",
              "        vertical-align: top;\n",
              "    }\n",
              "\n",
              "    .dataframe thead th {\n",
              "        text-align: right;\n",
              "    }\n",
              "</style>\n",
              "<table border=\"1\" class=\"dataframe\">\n",
              "  <thead>\n",
              "    <tr style=\"text-align: right;\">\n",
              "      <th></th>\n",
              "      <th>rank</th>\n",
              "      <th>loo</th>\n",
              "      <th>p_loo</th>\n",
              "      <th>d_loo</th>\n",
              "      <th>weight</th>\n",
              "      <th>se</th>\n",
              "      <th>dse</th>\n",
              "      <th>warning</th>\n",
              "      <th>loo_scale</th>\n",
              "    </tr>\n",
              "  </thead>\n",
              "  <tbody>\n",
              "    <tr>\n",
              "      <th>model1</th>\n",
              "      <td>0</td>\n",
              "      <td>322.096531</td>\n",
              "      <td>3.943233</td>\n",
              "      <td>0.000000</td>\n",
              "      <td>4.035636e-16</td>\n",
              "      <td>15.853132</td>\n",
              "      <td>0.000000</td>\n",
              "      <td>False</td>\n",
              "      <td>deviance</td>\n",
              "    </tr>\n",
              "    <tr>\n",
              "      <th>model2</th>\n",
              "      <td>1</td>\n",
              "      <td>322.371128</td>\n",
              "      <td>2.744819</td>\n",
              "      <td>0.274597</td>\n",
              "      <td>5.293383e-01</td>\n",
              "      <td>15.780511</td>\n",
              "      <td>3.606553</td>\n",
              "      <td>False</td>\n",
              "      <td>deviance</td>\n",
              "    </tr>\n",
              "    <tr>\n",
              "      <th>model3</th>\n",
              "      <td>2</td>\n",
              "      <td>322.705519</td>\n",
              "      <td>2.700165</td>\n",
              "      <td>0.608988</td>\n",
              "      <td>4.678581e-01</td>\n",
              "      <td>15.289602</td>\n",
              "      <td>3.575934</td>\n",
              "      <td>False</td>\n",
              "      <td>deviance</td>\n",
              "    </tr>\n",
              "    <tr>\n",
              "      <th>model4</th>\n",
              "      <td>3</td>\n",
              "      <td>332.703783</td>\n",
              "      <td>1.511548</td>\n",
              "      <td>10.607252</td>\n",
              "      <td>2.652328e-16</td>\n",
              "      <td>13.311589</td>\n",
              "      <td>7.770092</td>\n",
              "      <td>False</td>\n",
              "      <td>deviance</td>\n",
              "    </tr>\n",
              "    <tr>\n",
              "      <th>model5</th>\n",
              "      <td>4</td>\n",
              "      <td>332.986858</td>\n",
              "      <td>1.741879</td>\n",
              "      <td>10.890327</td>\n",
              "      <td>2.803582e-03</td>\n",
              "      <td>13.285301</td>\n",
              "      <td>7.816474</td>\n",
              "      <td>False</td>\n",
              "      <td>deviance</td>\n",
              "    </tr>\n",
              "  </tbody>\n",
              "</table>\n",
              "</div>"
            ],
            "text/plain": [
              "        rank         loo     p_loo  ...       dse  warning  loo_scale\n",
              "model1     0  322.096531  3.943233  ...  0.000000    False   deviance\n",
              "model2     1  322.371128  2.744819  ...  3.606553    False   deviance\n",
              "model3     2  322.705519  2.700165  ...  3.575934    False   deviance\n",
              "model4     3  332.703783  1.511548  ...  7.770092    False   deviance\n",
              "model5     4  332.986858  1.741879  ...  7.816474    False   deviance\n",
              "\n",
              "[5 rows x 9 columns]"
            ]
          },
          "metadata": {},
          "execution_count": 32
        }
      ]
    },
    {
      "cell_type": "code",
      "metadata": {
        "colab": {
          "base_uri": "https://localhost:8080/",
          "height": 353
        },
        "id": "dJOed3fYAF_F",
        "outputId": "ceae7f04-b8d3-409f-8919-a75e99237e49"
      },
      "source": [
        "az.compare(models_dict, ic='waic', scale='deviance')"
      ],
      "execution_count": 31,
      "outputs": [
        {
          "output_type": "stream",
          "text": [
            "/usr/local/lib/python3.7/dist-packages/arviz/stats/stats.py:146: UserWarning: The default method used to estimate the weights for each model,has changed from BB-pseudo-BMA to stacking\n",
            "  \"The default method used to estimate the weights for each model,\"\n",
            "/usr/local/lib/python3.7/dist-packages/arviz/stats/stats.py:1407: UserWarning: For one or more samples the posterior variance of the log predictive densities exceeds 0.4. This could be indication of WAIC starting to fail. \n",
            "See http://arxiv.org/abs/1507.04544 for details\n",
            "  \"For one or more samples the posterior variance of the log predictive \"\n",
            "/usr/local/lib/python3.7/dist-packages/arviz/stats/stats.py:1407: UserWarning: For one or more samples the posterior variance of the log predictive densities exceeds 0.4. This could be indication of WAIC starting to fail. \n",
            "See http://arxiv.org/abs/1507.04544 for details\n",
            "  \"For one or more samples the posterior variance of the log predictive \"\n"
          ],
          "name": "stderr"
        },
        {
          "output_type": "execute_result",
          "data": {
            "text/html": [
              "<div>\n",
              "<style scoped>\n",
              "    .dataframe tbody tr th:only-of-type {\n",
              "        vertical-align: middle;\n",
              "    }\n",
              "\n",
              "    .dataframe tbody tr th {\n",
              "        vertical-align: top;\n",
              "    }\n",
              "\n",
              "    .dataframe thead th {\n",
              "        text-align: right;\n",
              "    }\n",
              "</style>\n",
              "<table border=\"1\" class=\"dataframe\">\n",
              "  <thead>\n",
              "    <tr style=\"text-align: right;\">\n",
              "      <th></th>\n",
              "      <th>rank</th>\n",
              "      <th>waic</th>\n",
              "      <th>p_waic</th>\n",
              "      <th>d_waic</th>\n",
              "      <th>weight</th>\n",
              "      <th>se</th>\n",
              "      <th>dse</th>\n",
              "      <th>warning</th>\n",
              "      <th>waic_scale</th>\n",
              "    </tr>\n",
              "  </thead>\n",
              "  <tbody>\n",
              "    <tr>\n",
              "      <th>model1</th>\n",
              "      <td>0</td>\n",
              "      <td>322.077233</td>\n",
              "      <td>3.933585</td>\n",
              "      <td>0.000000</td>\n",
              "      <td>2.747493e-16</td>\n",
              "      <td>15.848742</td>\n",
              "      <td>0.000000</td>\n",
              "      <td>True</td>\n",
              "      <td>deviance</td>\n",
              "    </tr>\n",
              "    <tr>\n",
              "      <th>model2</th>\n",
              "      <td>1</td>\n",
              "      <td>322.367899</td>\n",
              "      <td>2.743205</td>\n",
              "      <td>0.290666</td>\n",
              "      <td>5.290765e-01</td>\n",
              "      <td>15.780343</td>\n",
              "      <td>3.608196</td>\n",
              "      <td>False</td>\n",
              "      <td>deviance</td>\n",
              "    </tr>\n",
              "    <tr>\n",
              "      <th>model3</th>\n",
              "      <td>2</td>\n",
              "      <td>322.694079</td>\n",
              "      <td>2.694445</td>\n",
              "      <td>0.616846</td>\n",
              "      <td>4.684269e-01</td>\n",
              "      <td>15.285902</td>\n",
              "      <td>3.573143</td>\n",
              "      <td>True</td>\n",
              "      <td>deviance</td>\n",
              "    </tr>\n",
              "    <tr>\n",
              "      <th>model4</th>\n",
              "      <td>3</td>\n",
              "      <td>332.701930</td>\n",
              "      <td>1.510621</td>\n",
              "      <td>10.624697</td>\n",
              "      <td>2.653666e-16</td>\n",
              "      <td>13.311299</td>\n",
              "      <td>7.767209</td>\n",
              "      <td>False</td>\n",
              "      <td>deviance</td>\n",
              "    </tr>\n",
              "    <tr>\n",
              "      <th>model5</th>\n",
              "      <td>4</td>\n",
              "      <td>332.984305</td>\n",
              "      <td>1.740602</td>\n",
              "      <td>10.907072</td>\n",
              "      <td>2.496548e-03</td>\n",
              "      <td>13.284677</td>\n",
              "      <td>7.813569</td>\n",
              "      <td>False</td>\n",
              "      <td>deviance</td>\n",
              "    </tr>\n",
              "  </tbody>\n",
              "</table>\n",
              "</div>"
            ],
            "text/plain": [
              "        rank        waic    p_waic  ...       dse  warning  waic_scale\n",
              "model1     0  322.077233  3.933585  ...  0.000000     True    deviance\n",
              "model2     1  322.367899  2.743205  ...  3.608196    False    deviance\n",
              "model3     2  322.694079  2.694445  ...  3.573143     True    deviance\n",
              "model4     3  332.701930  1.510621  ...  7.767209    False    deviance\n",
              "model5     4  332.984305  1.740602  ...  7.813569    False    deviance\n",
              "\n",
              "[5 rows x 9 columns]"
            ]
          },
          "metadata": {},
          "execution_count": 31
        }
      ]
    },
    {
      "cell_type": "markdown",
      "metadata": {
        "id": "sbpgkd_8Bb2f"
      },
      "source": [
        "We want the deviance to be the smallest, so models 1,2,3 are better just based on LOO/WAIC. These are the models that include the groupsize"
      ]
    },
    {
      "cell_type": "code",
      "metadata": {
        "id": "durS_-QHAYLn"
      },
      "source": [
        ""
      ],
      "execution_count": null,
      "outputs": []
    }
  ]
}