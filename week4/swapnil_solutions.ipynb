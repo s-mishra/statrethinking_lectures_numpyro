{
 "cells": [
  {
   "cell_type": "markdown",
   "id": "9c9751cb-229b-4f5a-8f3a-4505ac86aaf5",
   "metadata": {},
   "source": [
    "# [Homework 4](https://github.com/rmcelreath/statrethinking_winter2019/blob/master/homework/week04.pdf)"
   ]
  },
  {
   "cell_type": "code",
   "execution_count": 1,
   "id": "b824021d-c721-48f0-b2c7-e59d9b3478e6",
   "metadata": {},
   "outputs": [],
   "source": [
    "import jax.numpy as np\n",
    "import pandas as pd\n",
    "from jax import random\n",
    "import numpyro\n",
    "import numpyro.distributions as dist\n",
    "from numpyro.infer import Predictive, init_to_median, MCMC, NUTS\n",
    "import arviz as az\n",
    "from scipy.stats import entropy\n",
    "numpyro.set_platform(\"cpu\")\n",
    "numpyro.set_host_device_count(4)\n",
    "rng_key = random.PRNGKey(0)\n",
    "%config InlineBackend.figure_format ='retina'\n",
    "from causalgraphicalmodels import CausalGraphicalModel"
   ]
  },
  {
   "attachments": {
    "cf562588-f229-4440-a6c8-be630b593df3.png": {
     "image/png": "[encoded data removed]"
    }
   },
   "cell_type": "markdown",
   "id": "03ccf23a-22e9-4576-a472-f62c7512c8b6",
   "metadata": {},
   "source": [
    "### Question 1\n",
    "\n",
    ">Consider three fictional Polynesian islands. On each there is a Royal Ornithologist charged by the king with surveying the birb population. They have each found the following proportions of 5 important birb species:\n",
    "\n",
    "\n",
    "> ![image.png](attachment:cf562588-f229-4440-a6c8-be630b593df3.png)\n",
    "\n",
    ">Notice that each row sums to 1, all the birbs. This problem has two parts. It is not computationally complicated. But it is conceptually tricky. First, compute the entropy of each island’s birb distribution. Interpret these entropy values. Second, use each island’s birb distribution to predict the other two. This means to compute the K-L Divergence of each island from the others, treating each island as if it were a statistical model of the other islands. You should end up with 6 different K-L Divergence values. Which island predicts the others best? Why?\n"
   ]
  },
  {
   "cell_type": "code",
   "execution_count": 2,
   "id": "1f0c11bf-374d-4644-9854-c705231352ec",
   "metadata": {},
   "outputs": [
    {
     "data": {
      "text/html": [
       "<div>\n",
       "<style scoped>\n",
       "    .dataframe tbody tr th:only-of-type {\n",
       "        vertical-align: middle;\n",
       "    }\n",
       "\n",
       "    .dataframe tbody tr th {\n",
       "        vertical-align: top;\n",
       "    }\n",
       "\n",
       "    .dataframe thead th {\n",
       "        text-align: right;\n",
       "    }\n",
       "</style>\n",
       "<table border=\"1\" class=\"dataframe\">\n",
       "  <thead>\n",
       "    <tr style=\"text-align: right;\">\n",
       "      <th></th>\n",
       "      <th>Bird A</th>\n",
       "      <th>Bird B</th>\n",
       "      <th>Bird C</th>\n",
       "      <th>Bird D</th>\n",
       "      <th>Bird E</th>\n",
       "    </tr>\n",
       "  </thead>\n",
       "  <tbody>\n",
       "    <tr>\n",
       "      <th>Island 1</th>\n",
       "      <td>0.20</td>\n",
       "      <td>0.20</td>\n",
       "      <td>0.20</td>\n",
       "      <td>0.200</td>\n",
       "      <td>0.200</td>\n",
       "    </tr>\n",
       "    <tr>\n",
       "      <th>Island 2</th>\n",
       "      <td>0.80</td>\n",
       "      <td>0.10</td>\n",
       "      <td>0.05</td>\n",
       "      <td>0.025</td>\n",
       "      <td>0.025</td>\n",
       "    </tr>\n",
       "    <tr>\n",
       "      <th>Island 3</th>\n",
       "      <td>0.05</td>\n",
       "      <td>0.15</td>\n",
       "      <td>0.70</td>\n",
       "      <td>0.050</td>\n",
       "      <td>0.050</td>\n",
       "    </tr>\n",
       "  </tbody>\n",
       "</table>\n",
       "</div>"
      ],
      "text/plain": [
       "          Bird A  Bird B  Bird C  Bird D  Bird E\n",
       "Island 1    0.20    0.20    0.20   0.200   0.200\n",
       "Island 2    0.80    0.10    0.05   0.025   0.025\n",
       "Island 3    0.05    0.15    0.70   0.050   0.050"
      ]
     },
     "execution_count": 2,
     "metadata": {},
     "output_type": "execute_result"
    }
   ],
   "source": [
    "df_data = pd.DataFrame({'Bird A': [0.2,0.8,0.05], 'Bird B': [0.2,0.1,0.15], 'Bird C': [0.2,0.05,0.7], 'Bird D': [0.2,0.025,0.05], 'Bird E': [0.2,0.025,0.05]}, index=['Island 1','Island 2','Island 3'])\n",
    "df_data"
   ]
  },
  {
   "cell_type": "code",
   "execution_count": 3,
   "id": "7fba1165-9f8d-4558-b194-77904ea3e10c",
   "metadata": {},
   "outputs": [],
   "source": [
    "df_data = df_data.assign(entropy=df_data.apply(entropy, axis=1),\n",
    "               kl_1=df_data.apply(entropy, axis=1, qk = (df_data.iloc[0].values)),\n",
    "               kl_2=df_data.apply(entropy, axis=1, qk = (df_data.iloc[1].values)),\n",
    "               kl_3=df_data.apply(entropy, axis=1, qk = (df_data.iloc[2].values)))"
   ]
  },
  {
   "cell_type": "code",
   "execution_count": 4,
   "id": "5bebea4d-a913-4031-89e5-55d79295e554",
   "metadata": {},
   "outputs": [
    {
     "data": {
      "text/html": [
       "<div>\n",
       "<style scoped>\n",
       "    .dataframe tbody tr th:only-of-type {\n",
       "        vertical-align: middle;\n",
       "    }\n",
       "\n",
       "    .dataframe tbody tr th {\n",
       "        vertical-align: top;\n",
       "    }\n",
       "\n",
       "    .dataframe thead th {\n",
       "        text-align: right;\n",
       "    }\n",
       "</style>\n",
       "<table border=\"1\" class=\"dataframe\">\n",
       "  <thead>\n",
       "    <tr style=\"text-align: right;\">\n",
       "      <th></th>\n",
       "      <th>Bird A</th>\n",
       "      <th>Bird B</th>\n",
       "      <th>Bird C</th>\n",
       "      <th>Bird D</th>\n",
       "      <th>Bird E</th>\n",
       "      <th>entropy</th>\n",
       "      <th>kl_1</th>\n",
       "      <th>kl_2</th>\n",
       "      <th>kl_3</th>\n",
       "    </tr>\n",
       "  </thead>\n",
       "  <tbody>\n",
       "    <tr>\n",
       "      <th>Island 1</th>\n",
       "      <td>0.20</td>\n",
       "      <td>0.20</td>\n",
       "      <td>0.20</td>\n",
       "      <td>0.200</td>\n",
       "      <td>0.200</td>\n",
       "      <td>1.609438</td>\n",
       "      <td>0.000000</td>\n",
       "      <td>0.970406</td>\n",
       "      <td>0.638760</td>\n",
       "    </tr>\n",
       "    <tr>\n",
       "      <th>Island 2</th>\n",
       "      <td>0.80</td>\n",
       "      <td>0.10</td>\n",
       "      <td>0.05</td>\n",
       "      <td>0.025</td>\n",
       "      <td>0.025</td>\n",
       "      <td>0.743004</td>\n",
       "      <td>0.866434</td>\n",
       "      <td>0.000000</td>\n",
       "      <td>2.010914</td>\n",
       "    </tr>\n",
       "    <tr>\n",
       "      <th>Island 3</th>\n",
       "      <td>0.05</td>\n",
       "      <td>0.15</td>\n",
       "      <td>0.70</td>\n",
       "      <td>0.050</td>\n",
       "      <td>0.050</td>\n",
       "      <td>0.983600</td>\n",
       "      <td>0.625838</td>\n",
       "      <td>1.838845</td>\n",
       "      <td>0.000000</td>\n",
       "    </tr>\n",
       "  </tbody>\n",
       "</table>\n",
       "</div>"
      ],
      "text/plain": [
       "          Bird A  Bird B  Bird C  Bird D  Bird E   entropy      kl_1  \\\n",
       "Island 1    0.20    0.20    0.20   0.200   0.200  1.609438  0.000000   \n",
       "Island 2    0.80    0.10    0.05   0.025   0.025  0.743004  0.866434   \n",
       "Island 3    0.05    0.15    0.70   0.050   0.050  0.983600  0.625838   \n",
       "\n",
       "              kl_2      kl_3  \n",
       "Island 1  0.970406  0.638760  \n",
       "Island 2  0.000000  2.010914  \n",
       "Island 3  1.838845  0.000000  "
      ]
     },
     "execution_count": 4,
     "metadata": {},
     "output_type": "execute_result"
    }
   ],
   "source": [
    "df_data"
   ]
  },
  {
   "cell_type": "markdown",
   "id": "9138ef35-3e41-4131-af57-f2aa80cdc251",
   "metadata": {},
   "source": [
    "Entropy column tells you the entropy for each island and kl_x column tells the kl distance from island x from island y for $y\\in(1..3)$. Which means it tells you how good of guess is island x distribution for island's y distirbution. \n",
    "\n",
    "As expected Island 1 has the highest entropy as it has most even distribution. Again you can see kl_1 column has lowest divergences as island 1 has highest entropy so is less surprised by values in other islands. "
   ]
  },
  {
   "cell_type": "markdown",
   "id": "c3d0901a-a646-4d4f-86af-83e95f6b589b",
   "metadata": {},
   "source": [
    "***No total causal effect of area on weight***"
   ]
  },
  {
   "cell_type": "markdown",
   "id": "d2f0d766-e179-4f6f-946a-badad909409d",
   "metadata": {},
   "source": [
    "### Question 2\n",
    "\n",
    ">Recall the marriage, age, and happiness collider bias example from Chapter 6. Run models m6.9 and m6.10 again. Compare these two models using WAIC (or LOO, they will produce identical results). Which model is expected to make better predictions? Which model provides the correct causal inference about the influence of age on happiness? Can you explain why the answers to these two questions disagree?"
   ]
  },
  {
   "cell_type": "code",
   "execution_count": 5,
   "id": "c43e55ab-abba-438a-89c1-29f611251244",
   "metadata": {},
   "outputs": [
    {
     "data": {
      "image/svg+xml": [
       "<?xml version=\"1.0\" encoding=\"UTF-8\" standalone=\"no\"?>\n",
       "<!DOCTYPE svg PUBLIC \"-//W3C//DTD SVG 1.1//EN\"\n",
       " \"http://www.w3.org/Graphics/SVG/1.1/DTD/svg11.dtd\">\n",
       "<!-- Generated by graphviz version 2.49.0 (20210828.1703)\n",
       " -->\n",
       "<!-- Pages: 1 -->\n",
       "<svg width=\"174pt\" height=\"116pt\"\n",
       " viewBox=\"0.00 0.00 173.80 116.00\" xmlns=\"http://www.w3.org/2000/svg\" xmlns:xlink=\"http://www.w3.org/1999/xlink\">\n",
       "<g id=\"graph0\" class=\"graph\" transform=\"scale(1 1) rotate(0) translate(4 112)\">\n",
       "<polygon fill=\"white\" stroke=\"transparent\" points=\"-4,4 -4,-112 169.8,-112 169.8,4 -4,4\"/>\n",
       "<!-- happiness -->\n",
       "<g id=\"node1\" class=\"node\">\n",
       "<title>happiness</title>\n",
       "<ellipse fill=\"none\" stroke=\"black\" cx=\"46.8\" cy=\"-90\" rx=\"46.59\" ry=\"18\"/>\n",
       "<text text-anchor=\"middle\" x=\"46.8\" y=\"-86.3\" font-family=\"Times,serif\" font-size=\"14.00\">happiness</text>\n",
       "</g>\n",
       "<!-- marriage -->\n",
       "<g id=\"node2\" class=\"node\">\n",
       "<title>marriage</title>\n",
       "<ellipse fill=\"none\" stroke=\"black\" cx=\"92.8\" cy=\"-18\" rx=\"42.79\" ry=\"18\"/>\n",
       "<text text-anchor=\"middle\" x=\"92.8\" y=\"-14.3\" font-family=\"Times,serif\" font-size=\"14.00\">marriage</text>\n",
       "</g>\n",
       "<!-- happiness&#45;&gt;marriage -->\n",
       "<g id=\"edge1\" class=\"edge\">\n",
       "<title>happiness&#45;&gt;marriage</title>\n",
       "<path fill=\"none\" stroke=\"black\" d=\"M57.7,-72.41C63.25,-63.95 70.13,-53.49 76.32,-44.08\"/>\n",
       "<polygon fill=\"black\" stroke=\"black\" points=\"79.41,-45.75 81.97,-35.47 73.56,-41.9 79.41,-45.75\"/>\n",
       "</g>\n",
       "<!-- age -->\n",
       "<g id=\"node3\" class=\"node\">\n",
       "<title>age</title>\n",
       "<ellipse fill=\"none\" stroke=\"black\" cx=\"138.8\" cy=\"-90\" rx=\"27\" ry=\"18\"/>\n",
       "<text text-anchor=\"middle\" x=\"138.8\" y=\"-86.3\" font-family=\"Times,serif\" font-size=\"14.00\">age</text>\n",
       "</g>\n",
       "<!-- age&#45;&gt;marriage -->\n",
       "<g id=\"edge2\" class=\"edge\">\n",
       "<title>age&#45;&gt;marriage</title>\n",
       "<path fill=\"none\" stroke=\"black\" d=\"M128.36,-73.12C122.76,-64.59 115.72,-53.89 109.39,-44.25\"/>\n",
       "<polygon fill=\"black\" stroke=\"black\" points=\"112.25,-42.23 103.83,-35.8 106.4,-46.08 112.25,-42.23\"/>\n",
       "</g>\n",
       "</g>\n",
       "</svg>\n"
      ],
      "text/plain": [
       "<graphviz.dot.Digraph at 0x7f83883cc6a0>"
      ]
     },
     "execution_count": 5,
     "metadata": {},
     "output_type": "execute_result"
    }
   ],
   "source": [
    "happiness = CausalGraphicalModel(\n",
    "    nodes=[\"happiness\", \"marriage\", \"age\"],\n",
    "    edges=[\n",
    "        (\"happiness\", \"marriage\"), \n",
    "        (\"age\", \"marriage\")\n",
    "    ]\n",
    ")\n",
    "happiness.draw()"
   ]
  },
  {
   "cell_type": "markdown",
   "id": "80322ad5-1849-4665-9bbe-eb7072b31fb4",
   "metadata": {},
   "source": [
    "I have ended up getting data from R package and saving it in the data folder; reading it now and performing the edits done in the code from book"
   ]
  },
  {
   "cell_type": "code",
   "execution_count": 6,
   "id": "9676a1a8-960b-4bc8-a85e-dbfd1ede0097",
   "metadata": {},
   "outputs": [
    {
     "name": "stdout",
     "output_type": "stream",
     "text": [
      "               age      married     happiness\n",
      "count  1300.000000  1300.000000  1.300000e+03\n",
      "mean     33.000000     0.300769 -9.018427e-17\n",
      "std      18.768883     0.458769  1.214421e+00\n",
      "min       1.000000     0.000000 -2.000000e+00\n",
      "25%      17.000000     0.000000 -1.000000e+00\n",
      "50%      33.000000     0.000000 -1.110223e-16\n",
      "75%      49.000000     1.000000  1.000000e+00\n",
      "max      65.000000     1.000000  2.000000e+00\n",
      "             age     married     happiness  modified_age\n",
      "count  960.00000  960.000000  9.600000e+02    960.000000\n",
      "mean    41.50000    0.407292 -8.881784e-17      0.500000\n",
      "std     13.86062    0.491586  1.214587e+00      0.294907\n",
      "min     18.00000    0.000000 -2.000000e+00      0.000000\n",
      "25%     29.75000    0.000000 -1.000000e+00      0.250000\n",
      "50%     41.50000    0.000000 -1.110223e-16      0.500000\n",
      "75%     53.25000    1.000000  1.000000e+00      0.750000\n",
      "max     65.00000    1.000000  2.000000e+00      1.000000\n"
     ]
    }
   ],
   "source": [
    "df_data = pd.read_csv(\"../data/happiness.csv\")\n",
    "print(df_data.describe())\n",
    "df_data = df_data[df_data.age>17] # getting adults\n",
    "df_data = df_data.assign(modified_age = (df_data.age - 18)/(65-18))\n",
    "print(df_data.describe())"
   ]
  },
  {
   "cell_type": "code",
   "execution_count": 7,
   "id": "ce5f937e-935c-479d-8337-58d802a3ab08",
   "metadata": {},
   "outputs": [],
   "source": [
    "def model6_9(age, married, happiness=None):\n",
    "    n = len(set(married))\n",
    "    alpha = numpyro.sample(\"alpha\", dist.Normal(0,1), sample_shape=(n,))\n",
    "    beta = numpyro.sample(\"beta\", dist.Normal(0, 2))\n",
    "    sigma = numpyro.sample(\"sigma\", dist.Exponential(1))\n",
    "    mu = numpyro.deterministic('mu', alpha[married] + beta * age)\n",
    "    numpyro.sample(\"happiness\", dist.Normal(mu, sigma), obs=happiness)\n",
    "def model6_10(age, happiness=None):\n",
    "    alpha = numpyro.sample(\"alpha\", dist.Normal(0,1))\n",
    "    beta = numpyro.sample(\"beta\", dist.Normal(0, 2))\n",
    "    sigma = numpyro.sample(\"sigma\", dist.Exponential(1))\n",
    "    mu = numpyro.deterministic('mu', alpha + beta * age)\n",
    "    numpyro.sample(\"happiness\", dist.Normal(mu, sigma), obs=happiness)"
   ]
  },
  {
   "cell_type": "code",
   "execution_count": 8,
   "id": "354c7223-00dc-4332-acee-dd6f120b2ba7",
   "metadata": {},
   "outputs": [
    {
     "name": "stdout",
     "output_type": "stream",
     "text": [
      "\n",
      "                mean       std    median      5.0%     95.0%     n_eff     r_hat\n",
      "  alpha[0]     -0.24      0.06     -0.24     -0.33     -0.12   2601.73      1.00\n",
      "  alpha[1]      1.26      0.09      1.26      1.12      1.39   2582.98      1.00\n",
      "      beta     -0.75      0.11     -0.75     -0.93     -0.56   2264.58      1.00\n",
      "     sigma      0.99      0.02      0.99      0.96      1.03   4972.01      1.00\n",
      "\n",
      "Number of divergences: 0\n"
     ]
    }
   ],
   "source": [
    "kernel6_9 = NUTS(model6_9)\n",
    "m6_9 = MCMC(kernel6_9, num_warmup=1000, num_samples=2000,num_chains=4,progress_bar=False)\n",
    "m6_9.run(rng_key, age = df_data.modified_age.values, married = df_data.married.values, happiness=df_data.happiness.values)\n",
    "m6_9.print_summary()"
   ]
  },
  {
   "cell_type": "code",
   "execution_count": 9,
   "id": "1833082a-a33d-4d3c-8750-de4226067156",
   "metadata": {},
   "outputs": [
    {
     "name": "stdout",
     "output_type": "stream",
     "text": [
      "\n",
      "                mean       std    median      5.0%     95.0%     n_eff     r_hat\n",
      "     alpha     -0.00      0.08     -0.00     -0.13      0.13   2429.78      1.00\n",
      "      beta      0.00      0.13      0.00     -0.23      0.21   2489.96      1.00\n",
      "     sigma      1.22      0.03      1.22      1.17      1.26   4679.18      1.00\n",
      "\n",
      "Number of divergences: 0\n"
     ]
    }
   ],
   "source": [
    "kernel6_10 = NUTS(model6_10)\n",
    "m6_10 = MCMC(kernel6_10, num_warmup=1000, num_samples=2000,num_chains=4,progress_bar=False)\n",
    "m6_10.run(rng_key, age = df_data.modified_age.values, happiness=df_data.happiness.values)\n",
    "m6_10.print_summary()"
   ]
  },
  {
   "cell_type": "code",
   "execution_count": 10,
   "id": "e2dbec43-6695-434d-98f8-00ef6ff1d9b0",
   "metadata": {},
   "outputs": [
    {
     "name": "stderr",
     "output_type": "stream",
     "text": [
      "/Users/smishra/anaconda3/envs/statrethinking/lib/python3.8/site-packages/arviz/stats/stats.py:145: UserWarning: The default method used to estimate the weights for each model,has changed from BB-pseudo-BMA to stacking\n",
      "  warnings.warn(\n"
     ]
    },
    {
     "data": {
      "text/html": [
       "<div>\n",
       "<style scoped>\n",
       "    .dataframe tbody tr th:only-of-type {\n",
       "        vertical-align: middle;\n",
       "    }\n",
       "\n",
       "    .dataframe tbody tr th {\n",
       "        vertical-align: top;\n",
       "    }\n",
       "\n",
       "    .dataframe thead th {\n",
       "        text-align: right;\n",
       "    }\n",
       "</style>\n",
       "<table border=\"1\" class=\"dataframe\">\n",
       "  <thead>\n",
       "    <tr style=\"text-align: right;\">\n",
       "      <th></th>\n",
       "      <th>rank</th>\n",
       "      <th>loo</th>\n",
       "      <th>p_loo</th>\n",
       "      <th>d_loo</th>\n",
       "      <th>weight</th>\n",
       "      <th>se</th>\n",
       "      <th>dse</th>\n",
       "      <th>warning</th>\n",
       "      <th>loo_scale</th>\n",
       "    </tr>\n",
       "  </thead>\n",
       "  <tbody>\n",
       "    <tr>\n",
       "      <th>model6_9</th>\n",
       "      <td>0</td>\n",
       "      <td>2713.805210</td>\n",
       "      <td>3.630965</td>\n",
       "      <td>0.000000</td>\n",
       "      <td>0.992348</td>\n",
       "      <td>37.316992</td>\n",
       "      <td>0.000000</td>\n",
       "      <td>False</td>\n",
       "      <td>deviance</td>\n",
       "    </tr>\n",
       "    <tr>\n",
       "      <th>model6_10</th>\n",
       "      <td>1</td>\n",
       "      <td>3101.917234</td>\n",
       "      <td>2.347816</td>\n",
       "      <td>388.112024</td>\n",
       "      <td>0.007652</td>\n",
       "      <td>27.633863</td>\n",
       "      <td>35.168188</td>\n",
       "      <td>False</td>\n",
       "      <td>deviance</td>\n",
       "    </tr>\n",
       "  </tbody>\n",
       "</table>\n",
       "</div>"
      ],
      "text/plain": [
       "           rank          loo     p_loo       d_loo    weight         se  \\\n",
       "model6_9      0  2713.805210  3.630965    0.000000  0.992348  37.316992   \n",
       "model6_10     1  3101.917234  2.347816  388.112024  0.007652  27.633863   \n",
       "\n",
       "                 dse  warning loo_scale  \n",
       "model6_9    0.000000    False  deviance  \n",
       "model6_10  35.168188    False  deviance  "
      ]
     },
     "execution_count": 10,
     "metadata": {},
     "output_type": "execute_result"
    }
   ],
   "source": [
    "az.compare({'model6_9': m6_9,\n",
    "            'model6_10': m6_10},\n",
    "            scale='deviance')"
   ]
  },
  {
   "cell_type": "markdown",
   "id": "d56c6f96-6536-46c7-b9ce-4a4b2b5660cf",
   "metadata": {},
   "source": [
    "Basically we have model with wrong causal inference doing better prediction, it is expected here if you look at causal graph knowing marriage is useful for predicting happiness but that doesn't give us right causal effect for age. To get causal effect of age if we condition on marriage in our model then path gets openend up as it is a collider."
   ]
  },
  {
   "attachments": {
    "c6aab4e6-e896-4cc1-a64c-371f908ac065.png": {
     "image/png": "[encoded data removed]"
    }
   },
   "cell_type": "markdown",
   "id": "0ea78951-66e3-436c-b774-ea4db41ee3a8",
   "metadata": {},
   "source": [
    "### Question 3\n",
    "\n",
    ">Reconsider the urban fox analysis from last week’s homework. Use WAIC or LOO based model comparison on five different models, each using weight as the outcome, and containing these sets of predictor variables:\n",
    "> * avgfood + groupsize + area\n",
    "> * avgfood + groupsize\n",
    "> * groupsize + area\n",
    "> * avgfood\n",
    "> * area\n",
    "\n",
    ">Can you explain the relative differences in WAIC scores, using the fox DAG from last week’s homework? Be sure to pay attention to the standard error of the score differences (dSE).\n",
    "\n",
    "> ![image.png](attachment:c6aab4e6-e896-4cc1-a64c-371f908ac065.png)\n"
   ]
  },
  {
   "cell_type": "code",
   "execution_count": 11,
   "id": "42109e8b-c090-420e-ac1b-78e41d822754",
   "metadata": {},
   "outputs": [
    {
     "data": {
      "text/html": [
       "<div>\n",
       "<style scoped>\n",
       "    .dataframe tbody tr th:only-of-type {\n",
       "        vertical-align: middle;\n",
       "    }\n",
       "\n",
       "    .dataframe tbody tr th {\n",
       "        vertical-align: top;\n",
       "    }\n",
       "\n",
       "    .dataframe thead th {\n",
       "        text-align: right;\n",
       "    }\n",
       "</style>\n",
       "<table border=\"1\" class=\"dataframe\">\n",
       "  <thead>\n",
       "    <tr style=\"text-align: right;\">\n",
       "      <th></th>\n",
       "      <th>group</th>\n",
       "      <th>avgfood</th>\n",
       "      <th>groupsize</th>\n",
       "      <th>area</th>\n",
       "      <th>weight</th>\n",
       "    </tr>\n",
       "  </thead>\n",
       "  <tbody>\n",
       "    <tr>\n",
       "      <th>0</th>\n",
       "      <td>1</td>\n",
       "      <td>-1.924829</td>\n",
       "      <td>-1.524089</td>\n",
       "      <td>-2.239596</td>\n",
       "      <td>0.414135</td>\n",
       "    </tr>\n",
       "    <tr>\n",
       "      <th>1</th>\n",
       "      <td>1</td>\n",
       "      <td>-1.924829</td>\n",
       "      <td>-1.524089</td>\n",
       "      <td>-2.239596</td>\n",
       "      <td>-1.427046</td>\n",
       "    </tr>\n",
       "    <tr>\n",
       "      <th>2</th>\n",
       "      <td>2</td>\n",
       "      <td>-1.118035</td>\n",
       "      <td>-1.524089</td>\n",
       "      <td>-1.205508</td>\n",
       "      <td>0.675954</td>\n",
       "    </tr>\n",
       "    <tr>\n",
       "      <th>3</th>\n",
       "      <td>2</td>\n",
       "      <td>-1.118035</td>\n",
       "      <td>-1.524089</td>\n",
       "      <td>-1.205508</td>\n",
       "      <td>1.300942</td>\n",
       "    </tr>\n",
       "    <tr>\n",
       "      <th>4</th>\n",
       "      <td>3</td>\n",
       "      <td>-1.319734</td>\n",
       "      <td>-1.524089</td>\n",
       "      <td>-1.130106</td>\n",
       "      <td>1.115135</td>\n",
       "    </tr>\n",
       "    <tr>\n",
       "      <th>...</th>\n",
       "      <td>...</td>\n",
       "      <td>...</td>\n",
       "      <td>...</td>\n",
       "      <td>...</td>\n",
       "      <td>...</td>\n",
       "    </tr>\n",
       "    <tr>\n",
       "      <th>111</th>\n",
       "      <td>29</td>\n",
       "      <td>-0.412091</td>\n",
       "      <td>-0.224131</td>\n",
       "      <td>-0.451485</td>\n",
       "      <td>0.236773</td>\n",
       "    </tr>\n",
       "    <tr>\n",
       "      <th>112</th>\n",
       "      <td>29</td>\n",
       "      <td>-0.412091</td>\n",
       "      <td>-0.224131</td>\n",
       "      <td>-0.451485</td>\n",
       "      <td>-0.498010</td>\n",
       "    </tr>\n",
       "    <tr>\n",
       "      <th>113</th>\n",
       "      <td>30</td>\n",
       "      <td>-1.723131</td>\n",
       "      <td>-0.874110</td>\n",
       "      <td>-1.356312</td>\n",
       "      <td>-1.156781</td>\n",
       "    </tr>\n",
       "    <tr>\n",
       "      <th>114</th>\n",
       "      <td>30</td>\n",
       "      <td>-1.723131</td>\n",
       "      <td>-0.874110</td>\n",
       "      <td>-1.356312</td>\n",
       "      <td>-1.477721</td>\n",
       "    </tr>\n",
       "    <tr>\n",
       "      <th>115</th>\n",
       "      <td>30</td>\n",
       "      <td>-1.723131</td>\n",
       "      <td>-0.874110</td>\n",
       "      <td>-1.356312</td>\n",
       "      <td>-0.565576</td>\n",
       "    </tr>\n",
       "  </tbody>\n",
       "</table>\n",
       "<p>116 rows × 5 columns</p>\n",
       "</div>"
      ],
      "text/plain": [
       "     group   avgfood  groupsize      area    weight\n",
       "0        1 -1.924829  -1.524089 -2.239596  0.414135\n",
       "1        1 -1.924829  -1.524089 -2.239596 -1.427046\n",
       "2        2 -1.118035  -1.524089 -1.205508  0.675954\n",
       "3        2 -1.118035  -1.524089 -1.205508  1.300942\n",
       "4        3 -1.319734  -1.524089 -1.130106  1.115135\n",
       "..     ...       ...        ...       ...       ...\n",
       "111     29 -0.412091  -0.224131 -0.451485  0.236773\n",
       "112     29 -0.412091  -0.224131 -0.451485 -0.498010\n",
       "113     30 -1.723131  -0.874110 -1.356312 -1.156781\n",
       "114     30 -1.723131  -0.874110 -1.356312 -1.477721\n",
       "115     30 -1.723131  -0.874110 -1.356312 -0.565576\n",
       "\n",
       "[116 rows x 5 columns]"
      ]
     },
     "execution_count": 11,
     "metadata": {},
     "output_type": "execute_result"
    }
   ],
   "source": [
    "df_data = pd.read_csv('https://raw.githubusercontent.com/rmcelreath/rethinking/master/data/foxes.csv', delimiter=';')\n",
    "df_data[['avgfood', 'groupsize', 'area', 'weight']] = (df_data[['avgfood', 'groupsize', 'area', 'weight']] - df_data[['avgfood', 'groupsize', 'area', 'weight']].mean())/df_data[['avgfood', 'groupsize', 'area', 'weight']].std()\n",
    "df_data"
   ]
  },
  {
   "cell_type": "code",
   "execution_count": 12,
   "id": "eaaf5ffa-9b31-4907-8f7f-f219dedd66dc",
   "metadata": {},
   "outputs": [],
   "source": [
    "X1 = df_data[['avgfood', 'groupsize', 'area']]\n",
    "X2 = df_data[['avgfood', 'groupsize']]\n",
    "X3 = df_data[['groupsize', 'area']]\n",
    "X4 = df_data[['avgfood']]\n",
    "X5 = df_data[['area']]"
   ]
  },
  {
   "cell_type": "code",
   "execution_count": 13,
   "id": "2cea24ad-56f1-4808-9522-f2a32af41cfa",
   "metadata": {},
   "outputs": [],
   "source": [
    "def model(X, weight=None):\n",
    "    # priors\n",
    "    alpha = numpyro.sample('alpha', dist.Normal(0,0.5))\n",
    "    beta = numpyro.sample('beta', dist.Normal(0,0.5), sample_shape=(X.shape[1],))\n",
    "    sigma = numpyro.sample('sigma', dist.Exponential(1))\n",
    "    # likelihood\n",
    "    mu = numpyro.deterministic('mu', alpha + X.dot(beta))\n",
    "    numpyro.sample('weight_hat', dist.Normal(mu,sigma), obs=weight)"
   ]
  },
  {
   "cell_type": "code",
   "execution_count": 14,
   "id": "9a72845c-7ab0-489b-a8b3-07e5982883f3",
   "metadata": {},
   "outputs": [],
   "source": [
    "def run_model(X):\n",
    "    # Run NUTS\n",
    "    kernel = NUTS(model)\n",
    "    mcmc = MCMC(kernel, num_warmup=1000, num_samples=2000,num_chains=4,progress_bar=False)\n",
    "    mcmc.run(rng_key, X = np.array(X.values), weight=df_data.weight.values)\n",
    "#     mcmc.print_summary()\n",
    "    return mcmc"
   ]
  },
  {
   "cell_type": "code",
   "execution_count": null,
   "id": "a0972129-cebf-48e3-93e3-f26271bce63a",
   "metadata": {},
   "outputs": [],
   "source": [
    "m1 = run_model(X1)\n",
    "m2 = run_model(X2)\n",
    "m3 = run_model(X3)\n",
    "m4 = run_model(X4)\n",
    "m5 = run_model(X5)"
   ]
  },
  {
   "cell_type": "code",
   "execution_count": null,
   "id": "41d601cb-18d5-4f57-b9bd-b0c150f96bdf",
   "metadata": {},
   "outputs": [],
   "source": [
    "az.compare({'model_1': m1,\n",
    "            'model_2': m2,\n",
    "            'model_3': m3,\n",
    "            'model_4': m4,\n",
    "            'model_5': m5},ic='loo' ,scale='deviance')"
   ]
  },
  {
   "cell_type": "code",
   "execution_count": null,
   "id": "1e6a1631-a6fb-4add-b264-347a63b1c8ee",
   "metadata": {},
   "outputs": [],
   "source": [
    "az.compare({'model_1': m1,\n",
    "            'model_2': m2,\n",
    "            'model_3': m3,\n",
    "            'model_4': m4,\n",
    "            'model_5': m5},ic='waic' ,scale='deviance')"
   ]
  },
  {
   "cell_type": "markdown",
   "id": "571cc522-4cdc-4c6e-8daa-9b8d5a85d6a9",
   "metadata": {},
   "source": [
    "Remember best prediction doesn't mean best causal model. Always a problem you need to know about, if you are not worried about interventions it doesn't matter use `loo` or '=`waic` for selecting models but if interventions then you need causal graph. "
   ]
  }
 ],
 "metadata": {
  "kernelspec": {
   "display_name": "Python 3 (ipykernel)",
   "language": "python",
   "name": "python3"
  },
  "language_info": {
   "codemirror_mode": {
    "name": "ipython",
    "version": 3
   },
   "file_extension": ".py",
   "mimetype": "text/x-python",
   "name": "python",
   "nbconvert_exporter": "python",
   "pygments_lexer": "ipython3",
   "version": "3.8.10"
  }
 },
 "nbformat": 4,
 "nbformat_minor": 5
}
